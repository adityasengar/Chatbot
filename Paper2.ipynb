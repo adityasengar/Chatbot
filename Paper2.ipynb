{
  "cells": [
    {
      "cell_type": "markdown",
      "metadata": {
        "id": "view-in-github",
        "colab_type": "text"
      },
      "source": [
        "<a href=\"https://colab.research.google.com/github/adityasengar/Chatbot/blob/main/Paper2.ipynb\" target=\"_parent\"><img src=\"https://colab.research.google.com/assets/colab-badge.svg\" alt=\"Open In Colab\"/></a>"
      ]
    },
    {
      "cell_type": "code",
      "execution_count": 2,
      "id": "2108c1ad-9735-4a8f-ac9c-694880e17ca6",
      "metadata": {
        "id": "2108c1ad-9735-4a8f-ac9c-694880e17ca6"
      },
      "outputs": [],
      "source": [
        "import torch\n",
        "import torch.nn as nn\n",
        "import numpy as np\n",
        "from tqdm import tqdm\n",
        "from keras.datasets.mnist import load_data\n",
        "\n",
        "from unet import UNet\n",
        "import matplotlib.pyplot as plt"
      ]
    },
    {
      "cell_type": "code",
      "source": [
        "!pip install unet"
      ],
      "metadata": {
        "colab": {
          "base_uri": "https://localhost:8080/"
        },
        "id": "pBgHbYpNDR5e",
        "outputId": "e958805d-a729-4d5a-ab83-725816c7c68c"
      },
      "id": "pBgHbYpNDR5e",
      "execution_count": null,
      "outputs": [
        {
          "output_type": "stream",
          "name": "stdout",
          "text": [
            "Collecting unet\n",
            "  Downloading unet-0.7.7-py2.py3-none-any.whl (8.1 kB)\n",
            "Requirement already satisfied: torch in /usr/local/lib/python3.10/dist-packages (from unet) (2.0.1+cu118)\n",
            "Requirement already satisfied: filelock in /usr/local/lib/python3.10/dist-packages (from torch->unet) (3.12.2)\n",
            "Requirement already satisfied: typing-extensions in /usr/local/lib/python3.10/dist-packages (from torch->unet) (4.6.3)\n",
            "Requirement already satisfied: sympy in /usr/local/lib/python3.10/dist-packages (from torch->unet) (1.11.1)\n",
            "Requirement already satisfied: networkx in /usr/local/lib/python3.10/dist-packages (from torch->unet) (3.1)\n",
            "Requirement already satisfied: jinja2 in /usr/local/lib/python3.10/dist-packages (from torch->unet) (3.1.2)\n",
            "Requirement already satisfied: triton==2.0.0 in /usr/local/lib/python3.10/dist-packages (from torch->unet) (2.0.0)\n",
            "Requirement already satisfied: cmake in /usr/local/lib/python3.10/dist-packages (from triton==2.0.0->torch->unet) (3.25.2)\n",
            "Requirement already satisfied: lit in /usr/local/lib/python3.10/dist-packages (from triton==2.0.0->torch->unet) (16.0.6)\n",
            "Requirement already satisfied: MarkupSafe>=2.0 in /usr/local/lib/python3.10/dist-packages (from jinja2->torch->unet) (2.1.3)\n",
            "Requirement already satisfied: mpmath>=0.19 in /usr/local/lib/python3.10/dist-packages (from sympy->torch->unet) (1.3.0)\n",
            "Installing collected packages: unet\n",
            "Successfully installed unet-0.7.7\n"
          ]
        }
      ]
    },
    {
      "cell_type": "code",
      "execution_count": 3,
      "id": "6d331f7c-208a-40d8-a393-9a8455d35307",
      "metadata": {
        "colab": {
          "base_uri": "https://localhost:8080/"
        },
        "id": "6d331f7c-208a-40d8-a393-9a8455d35307",
        "outputId": "6fb4f934-3289-4c31-c60e-d159e9341e67"
      },
      "outputs": [
        {
          "output_type": "stream",
          "name": "stdout",
          "text": [
            "Downloading data from https://storage.googleapis.com/tensorflow/tf-keras-datasets/mnist.npz\n",
            "11490434/11490434 [==============================] - 0s 0us/step\n"
          ]
        }
      ],
      "source": [
        "(trainX, trainy), (testX, testy) = load_data()\n",
        "trainX = np.float32(trainX) / 255.\n",
        "testX = np.float32(testX) / 255.\n",
        "\n",
        "def sample_batch(batch_size, device):\n",
        "    indices = torch.randperm(trainX.shape[0])[:batch_size]\n",
        "    data = torch.from_numpy(trainX[indices]).unsqueeze(1).to(device)\n",
        "    return torch.nn.functional.interpolate(data, 32)"
      ]
    },
    {
      "cell_type": "code",
      "execution_count": 4,
      "id": "fe74a9e6-875c-46de-808e-69a6d4807ed4",
      "metadata": {
        "id": "fe74a9e6-875c-46de-808e-69a6d4807ed4"
      },
      "outputs": [],
      "source": [
        "class DiffusionModel():\n",
        "\n",
        "    def __init__(self, T : int, model : nn.Module, device : str):\n",
        "\n",
        "        self.T = T\n",
        "        self.function_approximator = model.to(device)\n",
        "        self.device = device\n",
        "\n",
        "        self.beta = torch.linspace(1e-4, 0.02, T).to(device)\n",
        "        self.alpha = 1. - self.beta\n",
        "        self.alpha_bar = torch.cumprod(self.alpha, dim=0)\n",
        "\n",
        "    def training(self, batch_size, optimizer):\n",
        "        \"\"\"\n",
        "        Algorithm 1 in Denoising Diffusion Probabilistic Models\n",
        "        \"\"\"\n",
        "\n",
        "        x0 = sample_batch(batch_size, self.device)\n",
        "\n",
        "        t = torch.randint(1, self.T + 1, (batch_size,), device=self.device, dtype=torch.long)\n",
        "\n",
        "        eps = torch.randn_like(x0)\n",
        "\n",
        "        # Take one gradient descent step\n",
        "        alpha_bar_t = self.alpha_bar[t-1].unsqueeze(-1).unsqueeze(-1).unsqueeze(-1)\n",
        "        eps_predicted = self.function_approximator(torch.sqrt(\n",
        "            alpha_bar_t) * x0 + torch.sqrt(1 - alpha_bar_t) * eps, t-1)\n",
        "        loss = nn.functional.mse_loss(eps, eps_predicted)\n",
        "        optimizer.zero_grad()\n",
        "        loss.backward()\n",
        "        optimizer.step()\n",
        "\n",
        "        return loss.item()\n",
        "\n",
        "    @torch.no_grad()\n",
        "    def sampling(self, n_samples=1, image_channels=1, img_size=(32, 32), use_tqdm=True):\n",
        "\n",
        "        x = torch.randn((n_samples, image_channels, img_size[0], img_size[1]),\n",
        "                         device=self.device)\n",
        "\n",
        "        progress_bar = tqdm if use_tqdm else lambda x : x\n",
        "        for t in progress_bar(range(self.T, 0, -1)):\n",
        "            z = torch.randn_like(x) if t > 1 else torch.zeros_like(x)\n",
        "\n",
        "            t = torch.ones(n_samples, dtype=torch.long, device=self.device) * t\n",
        "\n",
        "            beta_t = self.beta[t-1].unsqueeze(-1).unsqueeze(-1).unsqueeze(-1)\n",
        "            alpha_t = self.alpha[t-1].unsqueeze(-1).unsqueeze(-1).unsqueeze(-1)\n",
        "            alpha_bar_t = self.alpha_bar[t-1].unsqueeze(-1).unsqueeze(-1).unsqueeze(-1)\n",
        "\n",
        "            mean = 1 / torch.sqrt(alpha_t) * (x - ((1 - alpha_t) / torch.sqrt(\n",
        "                1 - alpha_bar_t)) * self.function_approximator(x, t-1))\n",
        "            sigma = torch.sqrt(beta_t)\n",
        "            x = mean + sigma * z\n",
        "\n",
        "        return x\n"
      ]
    },
    {
      "cell_type": "code",
      "execution_count": 5,
      "id": "7a461fd6-830e-408c-8dfb-4e7cdbaa8ce4",
      "metadata": {
        "id": "7a461fd6-830e-408c-8dfb-4e7cdbaa8ce4"
      },
      "outputs": [],
      "source": [
        "device = 'cpu'\n",
        "batch_size = 64\n",
        "model = UNet()\n",
        "optimizer = torch.optim.Adam(model.parameters(), lr=2e-5)\n",
        "diffusion_model = DiffusionModel(1000, model, device)"
      ]
    },
    {
      "cell_type": "code",
      "execution_count": null,
      "id": "2a04313e-cfb9-46f1-ab37-e90cb1719cd6",
      "metadata": {
        "colab": {
          "base_uri": "https://localhost:8080/"
        },
        "id": "2a04313e-cfb9-46f1-ab37-e90cb1719cd6",
        "outputId": "5d23b864-3835-40ad-be2a-04347d52e5d2"
      },
      "outputs": [
        {
          "output_type": "stream",
          "name": "stderr",
          "text": [
            "\r  0%|          | 0/40000 [00:00<?, ?it/s]"
          ]
        }
      ],
      "source": [
        "training_loss = []\n",
        "for epoch in tqdm(range(40_000)):\n",
        "    loss = diffusion_model.training(batch_size, optimizer)\n",
        "    training_loss.append(loss)\n",
        "\n",
        "    if epoch % 100 == 0:\n",
        "        plt.plot(training_loss)\n",
        "        plt.savefig('training_loss.png')\n",
        "        plt.close()\n",
        "\n",
        "        plt.plot(training_loss[-1000:])\n",
        "        plt.savefig('training_loss_cropped.png')\n",
        "        plt.close()\n",
        "\n",
        "    if epoch % 5000 == 0:\n",
        "        nb_images=81\n",
        "        samples = diffusion_model.sampling(n_samples=nb_images, use_tqdm=False)\n",
        "        plt.figure(figsize=(17, 17))\n",
        "        for i in range(nb_images):\n",
        "            plt.subplot(9, 9, 1 + i)\n",
        "            plt.axis('off')\n",
        "            plt.imshow(samples[i].squeeze(0).clip(0, 1).data.cpu().numpy(), cmap='gray')\n",
        "        plt.savefig(f'samples_epoch_{epoch}.png')\n",
        "        plt.close()\n",
        "\n",
        "        torch.save(model.cpu(), f'model_paper2_epoch_{epoch}')\n",
        "        model.cuda()"
      ]
    },
    {
      "cell_type": "code",
      "source": [
        "optimizer"
      ],
      "metadata": {
        "colab": {
          "base_uri": "https://localhost:8080/"
        },
        "id": "UJlRDDW6D3y7",
        "outputId": "e133dadb-276a-4834-8019-4c261d6bd240"
      },
      "id": "UJlRDDW6D3y7",
      "execution_count": null,
      "outputs": [
        {
          "output_type": "execute_result",
          "data": {
            "text/plain": [
              "Adam (\n",
              "Parameter Group 0\n",
              "    amsgrad: False\n",
              "    betas: (0.9, 0.999)\n",
              "    capturable: False\n",
              "    differentiable: False\n",
              "    eps: 1e-08\n",
              "    foreach: None\n",
              "    fused: None\n",
              "    lr: 2e-05\n",
              "    maximize: False\n",
              "    weight_decay: 0\n",
              ")"
            ]
          },
          "metadata": {},
          "execution_count": 13
        }
      ]
    },
    {
      "cell_type": "code",
      "source": [
        "batch_size"
      ],
      "metadata": {
        "colab": {
          "base_uri": "https://localhost:8080/"
        },
        "id": "OMqF4NPsD38C",
        "outputId": "ba8692bd-ca81-4bdb-d394-a76d2eef8197"
      },
      "id": "OMqF4NPsD38C",
      "execution_count": null,
      "outputs": [
        {
          "output_type": "execute_result",
          "data": {
            "text/plain": [
              "64"
            ]
          },
          "metadata": {},
          "execution_count": 12
        }
      ]
    },
    {
      "cell_type": "code",
      "execution_count": null,
      "id": "1d2fc9a9-59db-4588-bc92-a4ed3f13c75f",
      "metadata": {
        "id": "1d2fc9a9-59db-4588-bc92-a4ed3f13c75f"
      },
      "outputs": [],
      "source": [
        "nb_images=81\n",
        "samples = diffusion_model.sampling(n_samples=nb_images, use_tqdm=False)\n",
        "plt.figure(figsize=(17, 17))\n",
        "for i in range(nb_images):\n",
        "    plt.subplot(9, 9, 1 + i)\n",
        "    plt.axis('off')\n",
        "    plt.imshow(samples[i].squeeze(0).clip(0, 1).data.cpu().numpy(), cmap='gray')\n",
        "plt.savefig(f'samples_epoch_{epoch}.png')\n",
        "plt.close()\n",
        "\n",
        "torch.save(model.cpu(), f'model_paper2_epoch_{epoch}')"
      ]
    },
    {
      "cell_type": "code",
      "execution_count": null,
      "id": "35036368-d469-4b32-9ee4-e7fc850d3bb5",
      "metadata": {
        "id": "35036368-d469-4b32-9ee4-e7fc850d3bb5"
      },
      "outputs": [],
      "source": []
    }
  ],
  "metadata": {
    "kernelspec": {
      "display_name": "Python 3 (ipykernel)",
      "language": "python",
      "name": "python3"
    },
    "language_info": {
      "codemirror_mode": {
        "name": "ipython",
        "version": 3
      },
      "file_extension": ".py",
      "mimetype": "text/x-python",
      "name": "python",
      "nbconvert_exporter": "python",
      "pygments_lexer": "ipython3",
      "version": "3.9.16"
    },
    "colab": {
      "provenance": [],
      "include_colab_link": true
    }
  },
  "nbformat": 4,
  "nbformat_minor": 5
}